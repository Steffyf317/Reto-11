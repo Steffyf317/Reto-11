{
  "nbformat": 4,
  "nbformat_minor": 0,
  "metadata": {
    "colab": {
      "provenance": [],
      "authorship_tag": "ABX9TyO//TNKcYm7SO7a6redgO/1",
      "include_colab_link": true
    },
    "kernelspec": {
      "name": "python3",
      "display_name": "Python 3"
    },
    "language_info": {
      "name": "python"
    }
  },
  "cells": [
    {
      "cell_type": "markdown",
      "metadata": {
        "id": "view-in-github",
        "colab_type": "text"
      },
      "source": [
        "<a href=\"https://colab.research.google.com/github/Steffyf317/Reto-11/blob/main/Reto11.ipynb\" target=\"_parent\"><img src=\"https://colab.research.google.com/assets/colab-badge.svg\" alt=\"Open In Colab\"/></a>"
      ]
    },
    {
      "cell_type": "code",
      "execution_count": null,
      "metadata": {
        "colab": {
          "base_uri": "https://localhost:8080/"
        },
        "id": "zWVNj_OVew8D",
        "outputId": "6a2f085f-1cac-4a6e-90f7-80c707a1d991"
      },
      "outputs": [
        {
          "output_type": "stream",
          "name": "stdout",
          "text": [
            "Digite el número de filas para la primera matriz 2\n",
            "Digite el número de filas para la segunda matriz 2\n",
            "Digite el número de columnas para la primera matriz 2\n",
            "Digite el número de columnas para la segunda matriz 2\n",
            "Matriz A\n",
            "Ingrese un elemento para la matriz 1\n",
            "Ingrese un elemento para la matriz 2\n",
            "Ingrese un elemento para la matriz 3\n",
            "Ingrese un elemento para la matriz 4\n",
            "Matriz B\n",
            "Ingrese el elemento para la segunda matriz 5\n",
            "Ingrese el elemento para la segunda matriz 6\n",
            "Ingrese el elemento para la segunda matriz 7\n",
            "Ingrese el elemento para la segunda matriz 8\n",
            "La suma de las matrices es [[6, 8], [10, 12]]\n",
            "La resta de las matrices es [[-4, -4], [-4, -4]]\n"
          ]
        }
      ],
      "source": [
        "# Desarrolle un programa que permita realizar la suma/resta de matrices. El programa debe validar las condiciones necesarias para ejecutar la operación.\n",
        "\n",
        "\n",
        "def sumar_matrices(A,B):\n",
        "  n = len(A) #filas de las matrices (ambas deben ser iguales)\n",
        "  m = len(A[0]) #columnas de las matrices\n",
        "  C = [] #resultado de la suma\n",
        "  for i in range(n):#se itera sobre las filas de A y B\n",
        "    fila = [] #construcción de filas de C\n",
        "    for j in range(m): #se itera sobre las columnas de A y B\n",
        "      fila.append(A[i][j]+B[i][j]) #sumar los elementos correspondientes de A y B\n",
        "    C.append(fila)\n",
        "  return(C)\n",
        "\n",
        "def restar_matrices(A,B):\n",
        "  n = len(A) #filas de las matrices\n",
        "  m = len(A[0]) #columnas de las matrices\n",
        "  D = [] #resultado de la resta\n",
        "  for i in range(n): #se itera sobre las filas\n",
        "    fila = [] #construcción de filas de c\n",
        "    for j in range(m): #se itera sobre las columnas\n",
        "      fila.append(A[i][j]-B[i][j]) #restar los elementos correspondientes de A y B\n",
        "    D.append(fila)\n",
        "  return(D)\n",
        "\n",
        "if __name__ == \"__main__\":\n",
        "\n",
        "  filas_A = int(input(\"Digite el número de filas para la primera matriz \")) #valores ingresados por el usuario\n",
        "  filas_B = int(input(\"Digite el número de filas para la segunda matriz \"))\n",
        "  columnas_A = int(input(\"Digite el número de columnas para la primera matriz \"))\n",
        "  columnas_B = int(input(\"Digite el número de columnas para la segunda matriz \"))\n",
        "  A =  [] #matrices donde se guardarán lo ingresado\n",
        "  B = []\n",
        "\n",
        "  if filas_A == filas_B and columnas_A == columnas_B: #condición para que se pueda hacer la suma y resta entre las dos matrices\n",
        "    print(\"Matriz A\")\n",
        "    for i in range(filas_A):\n",
        "      fila = []\n",
        "      for j in range(columnas_A):\n",
        "        fila.append(int(input(\"Ingrese un elemento para la matriz \")))\n",
        "      A.append(fila) #cada fila se almacena como una lista dentro de la lista A (matriz)\n",
        "    print(\"Matriz B\")\n",
        "    for i in range(filas_B):\n",
        "      fila = []\n",
        "      for j in range(columnas_B):\n",
        "        fila.append(int(input(\"Ingrese el elemento para la segunda matriz \")))\n",
        "      B.append(fila) #cada fila se almacena como una lista dentro de la lista B (matriz)\n",
        "    suma = sumar_matrices(A,B) #llamar a las funciones\n",
        "    resta = restar_matrices(A,B)\n",
        "    print(\"La suma de las matrices es \" +str(suma))\n",
        "    print(\"La resta de las matrices es \" +str(resta))\n",
        "  else:\n",
        "    print(\"Verificar el tamaño de las matrices, deben ser del mismo tamaño para su ejecución\")"
      ]
    },
    {
      "cell_type": "code",
      "source": [
        "# Desarrolle un programa que permita realizar el producto de matrices. El programa debe validar las condiciones necesarias para ejecutar la operación.\n",
        "\n",
        "def multiplicar_matrices(A,B):\n",
        "  n = len(A) #filas\n",
        "  m = len(A[0]) #columnas de A (número de filas de B)\n",
        "  l = len(B[0]) #columnas de B\n",
        "  C = [] #matriz resultante del producto\n",
        "\n",
        "  for i in range(n): #iterar en las filas de A\n",
        "    fila_c = [] #filas para C\n",
        "    for j in range(l): #iterar en las columnas de B\n",
        "      s = 0 #se inicia la suma para el elemento para cada elemento en C\n",
        "      for k in range(m): #se itera sobre el elemento i de A y sobre la columna j de B\n",
        "        s += A[i][k]*B[k][j] #multiplicar el elemento en la fila i y columna k dentro de A con el elemento en la fila k y columna j de B, a la vez que se acumulan los valores\n",
        "      fila_c.append(s) #agregar el resultado a las filas de C\n",
        "    C.append(fila_c) #agregar las filas de C al arreglo C\n",
        "  return(C)\n",
        "\n",
        "if __name__ == \"__main__\":\n",
        "\n",
        "  filas_A = int(input(\"Digite el número de filas para la primera matriz \")) #valores ingresados por el usuario\n",
        "  filas_B = int(input(\"Digite el número de filas para la segunda matriz \"))\n",
        "  columnas_A = int(input(\"Digite el número de columnas para la primera matriz \"))\n",
        "  columnas_B = int(input(\"Digite el número de columnas para la segunda matriz \"))\n",
        "  A =  [] #matrices donde se guardarán lo ingresado\n",
        "  B = []\n",
        "\n",
        "  if columnas_A == filas_B: #condición para que se pueda hacer el producto entre las dos matrices\n",
        "    print(\"Matriz A\")\n",
        "    for i in range(filas_A):\n",
        "      fila = []\n",
        "      for j in range(columnas_A):\n",
        "        fila.append(int(input(\"Ingrese un elemento para la matriz \")))\n",
        "      A.append(fila) #cada fila se almacena como una lista dentro de la lista A (matriz)\n",
        "    print(\"Matriz B\")\n",
        "    for i in range(filas_B):\n",
        "      fila = []\n",
        "      for j in range(columnas_B):\n",
        "        fila.append(int(input(\"Ingrese el elemento para la segunda matriz \")))\n",
        "      B.append(fila) #cada fila se almacena como una lista dentro de la lista B (matriz)\n",
        "    multiplicacion = multiplicar_matrices(A,B) #llamar a la función\n",
        "    print(\"La multiplicación de las matrices es \" +str(multiplicacion))\n",
        "  else:\n",
        "    print(\"Verificar el tamaño de las matrices \")\n",
        "\n",
        "\n"
      ],
      "metadata": {
        "id": "EX1CIfLxW9Th",
        "colab": {
          "base_uri": "https://localhost:8080/"
        },
        "outputId": "e748ccba-b676-414b-831d-7f3fe95e4f6a"
      },
      "execution_count": null,
      "outputs": [
        {
          "output_type": "stream",
          "name": "stdout",
          "text": [
            "Digite el número de filas para la primera matriz 3\n",
            "Digite el número de filas para la segunda matriz 2\n",
            "Digite el número de columnas para la primera matriz 2\n",
            "Digite el número de columnas para la segunda matriz 3\n",
            "Matriz A\n",
            "Ingrese un elemento para la matriz 1\n",
            "Ingrese un elemento para la matriz 2\n",
            "Ingrese un elemento para la matriz 3\n",
            "Ingrese un elemento para la matriz 4\n",
            "Ingrese un elemento para la matriz 5\n",
            "Ingrese un elemento para la matriz 6\n",
            "Matriz B\n",
            "Ingrese el elemento para la segunda matriz 1\n",
            "Ingrese el elemento para la segunda matriz 2\n",
            "Ingrese el elemento para la segunda matriz 3\n",
            "Ingrese el elemento para la segunda matriz 3\n",
            "Ingrese el elemento para la segunda matriz 4\n",
            "Ingrese el elemento para la segunda matriz 5\n",
            "La multiplicación de las matrices es [[7, 10, 13], [15, 22, 29], [23, 34, 45]]\n"
          ]
        }
      ]
    },
    {
      "cell_type": "code",
      "source": [
        "# Desarrolle un programa que permita obtener la matriz transpuesta de una matriz ingresada. El programa debe validar las condiciones necesarias para ejecutar la operación.\n",
        "\n",
        "def calcular_matriz_transpuesta(A):\n",
        "  A_T = [] #se crea una lista vacía correspondiente a la transpuesta de la matriz\n",
        "  n = len(A) #filas\n",
        "  m = len(A[0]) #columnas\n",
        "  for i in range(m): #para acceder a los correspondientes indices de las columnas de A\n",
        "    A_T.append([]) # filas de la transpuesta\n",
        "    for j in range(n): #para acceder a los correspondientes índices de las filas de A\n",
        "      A_T[i].append(A[j][i]) #el elemento con posicion j,i en la matriz original, será puesto en la posición i,j dentro de la matriz transpuesta\n",
        "  return A_T\n",
        "\n",
        "if __name__ == \"__main__\":\n",
        "  filas_A = int(input(\"Digite el número de filas para la matriz \")) #valores ingresados por el usuario\n",
        "  columnas_A = int(input(\"Digite el número de columnas para la matriz \"))\n",
        "  A = [] #se crea el arreglo vacío que será la matriz\n",
        "  for i in range(filas_A):\n",
        "    fila = []\n",
        "    for j in range(columnas_A):\n",
        "      fila.append(int(input(\"Ingrese un elemento para la matriz \")))\n",
        "    A.append(fila) #cada fila se almacena como una lista dentro de la lista A (matriz)\n",
        "\n",
        "  transpuesta = calcular_matriz_transpuesta(A) #llamar a la función\n",
        "  print(\"La matriz ingresada fue: \" +str(A))\n",
        "  print(\"y su transpuesta es: \" +str(transpuesta))"
      ],
      "metadata": {
        "colab": {
          "base_uri": "https://localhost:8080/"
        },
        "id": "FBpTgv5EiyaF",
        "outputId": "074e834b-4abc-4fee-84af-06397f6d4448"
      },
      "execution_count": null,
      "outputs": [
        {
          "output_type": "stream",
          "name": "stdout",
          "text": [
            "Digite el número de filas para la matriz 2\n",
            "Digite el número de columnas para la matriz 2\n",
            "Ingrese un elemento para la matriz 1\n",
            "Ingrese un elemento para la matriz 2\n",
            "Ingrese un elemento para la matriz 3\n",
            "Ingrese un elemento para la matriz 4\n",
            "La matriz ingresada fue: [[1, 2], [3, 4]]\n",
            "y su transpuesta es: [[1, 3], [2, 4]]\n"
          ]
        }
      ]
    },
    {
      "cell_type": "code",
      "source": [
        "# Desarrollar un programa que sume los elementos de una columna dada de una matriz\n",
        "def sumar_elementos_columna(A,columna_indice):\n",
        "  suma = 0 #se inicia la suma en 0 para ser iterada\n",
        "  for i in A: #se recorre cada fila i dentro de la matriz ingresada por el usuario\n",
        "    suma += i[columna_indice] #se accede al elemento dentro de la columna indicada por el usuario y se itera\n",
        "  return suma\n",
        "\n",
        "if __name__ == \"__main__\":\n",
        "  filas_A = int(input(\"Digite el número de filas para la matriz \"))\n",
        "  columnas_A = int(input(\"Digite el número de columnas para la matriz \")) #valores ingresados por el usuario\n",
        "  A = [] #se crea el arreglo vacío que será la matriz\n",
        "  for i in range(filas_A):\n",
        "    fila = []\n",
        "    for j in range(columnas_A):\n",
        "      fila.append(int(input(\"Ingrese un elemento para la matriz \")))\n",
        "    A.append(fila) #cada fila se almacena como una lista dentro de la lista A (matriz)\n",
        "\n",
        "  columna_indice = int(input(\"Ingrese el índice de la columna que desea que cuyos elementos sean sumados: \")) #se empieza desde 0 el índice\n",
        "  suma_columna = sumar_elementos_columna(A,columna_indice) #llamar a la función\n",
        "  print(\"La matriz ingresada fue \" +str(A))\n",
        "  print(\"y la suma de los elementos de la columna correspondiente es: \" +str(suma_columna))"
      ],
      "metadata": {
        "colab": {
          "base_uri": "https://localhost:8080/"
        },
        "id": "6NyzcGsesFSb",
        "outputId": "22cf292d-8189-4a35-c9b9-354aae02952e"
      },
      "execution_count": null,
      "outputs": [
        {
          "output_type": "stream",
          "name": "stdout",
          "text": [
            "Digite el número de filas para la matriz 2\n",
            "Digite el número de columnas para la matriz 4\n",
            "Ingrese un elemento para la matriz 1\n",
            "Ingrese un elemento para la matriz 2\n",
            "Ingrese un elemento para la matriz 3\n",
            "Ingrese un elemento para la matriz 4\n",
            "Ingrese un elemento para la matriz 5\n",
            "Ingrese un elemento para la matriz 6\n",
            "Ingrese un elemento para la matriz 7\n",
            "Ingrese un elemento para la matriz 8\n",
            "Ingrese el índice de la columna que desea que cuyos elementos sean sumados 2\n",
            "[[1, 2, 3, 4], [5, 6, 7, 8]]\n",
            "La suma de los elementos de la columna correspondiente es: 10\n"
          ]
        }
      ]
    },
    {
      "cell_type": "code",
      "source": [
        "# Desarrollar un programa que sume los elementos de una fila dada de una matriz.\n",
        "def sumar_elementos_fila(A,fila_indice):\n",
        "  suma = 0 # se inicializa la variable suma en 0 para ser iterada\n",
        "  for i in A[fila_indice]: #se especifica que la iteración sea en la posicion de la fila que el usuario quiere\n",
        "    suma += i\n",
        "  return suma\n",
        "\n",
        "if __name__ == \"__main__\":\n",
        "  filas_A = int(input(\"Digite el número de filas para la matriz \"))\n",
        "  columnas_A = int(input(\"Digite el número de columnas para la matriz \")) #valores ingresados por el usuario\n",
        "  A = [] #se crea el arreglo vacío que será la matriz\n",
        "  for i in range(filas_A):\n",
        "    fila = []\n",
        "    for j in range(columnas_A):\n",
        "      fila.append(int(input(\"Ingrese un elemento para la matriz \")))  #cada fila se almacena como una lista dentro de la lista A (matriz)\n",
        "    A.append(fila)\n",
        "\n",
        "  fila_indice = int(input(\"Ingrese el índice de la fila que desea que cuyos elementos sean sumados \")) #se empieza desde 0 el índice\n",
        "  suma_fila = sumar_elementos_fila(A,fila_indice) #llamar a la función\n",
        "  print(\"La matriz ingresada fue \" +str(A))\n",
        "  print(\"y la suma de los elementos de la fila correspondiente es: \" +str(suma_fila))\n"
      ],
      "metadata": {
        "colab": {
          "base_uri": "https://localhost:8080/"
        },
        "id": "X9Gxtlej9QpZ",
        "outputId": "1df31f39-8755-4b7e-b85e-0f2df60baaf0"
      },
      "execution_count": 1,
      "outputs": [
        {
          "output_type": "stream",
          "name": "stdout",
          "text": [
            "Digite el número de filas para la matriz 3\n",
            "Digite el número de columnas para la matriz 2\n",
            "Ingrese un elemento para la matriz 1\n",
            "Ingrese un elemento para la matriz 2\n",
            "Ingrese un elemento para la matriz 3\n",
            "Ingrese un elemento para la matriz 4\n",
            "Ingrese un elemento para la matriz 5\n",
            "Ingrese un elemento para la matriz 6\n",
            "Ingrese el índice de la fila que desea que cuyos elementos sean sumados 1\n",
            "La matriz ingresada fue [[1, 2], [3, 4], [5, 6]]\n",
            "y la suma de los elementos de la fila correspondiente es: 7\n"
          ]
        }
      ]
    }
  ]
}